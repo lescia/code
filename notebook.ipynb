{
 "cells": [
  {
   "cell_type": "code",
   "execution_count": 12,
   "metadata": {},
   "outputs": [],
   "source": [
    "# I import the necessary libraries\n",
    "import pandas as pd"
   ]
  },
  {
   "cell_type": "markdown",
   "metadata": {},
   "source": [
    "**Market Health Index City Dataset**"
   ]
  },
  {
   "cell_type": "code",
   "execution_count": 143,
   "metadata": {},
   "outputs": [
    {
     "data": {
      "text/html": [
       "<div>\n",
       "<style scoped>\n",
       "    .dataframe tbody tr th:only-of-type {\n",
       "        vertical-align: middle;\n",
       "    }\n",
       "\n",
       "    .dataframe tbody tr th {\n",
       "        vertical-align: top;\n",
       "    }\n",
       "\n",
       "    .dataframe thead th {\n",
       "        text-align: right;\n",
       "    }\n",
       "</style>\n",
       "<table border=\"1\" class=\"dataframe\">\n",
       "  <thead>\n",
       "    <tr style=\"text-align: right;\">\n",
       "      <th></th>\n",
       "      <th>RegionType</th>\n",
       "      <th>RegionName</th>\n",
       "      <th>City</th>\n",
       "      <th>State</th>\n",
       "      <th>Metro</th>\n",
       "      <th>CBSATitle</th>\n",
       "      <th>SizeRank</th>\n",
       "      <th>MarketHealthIndex</th>\n",
       "      <th>SellForGain</th>\n",
       "      <th>PrevForeclosed</th>\n",
       "      <th>ForeclosureRatio</th>\n",
       "      <th>ZHVI</th>\n",
       "      <th>MoM</th>\n",
       "      <th>YoY</th>\n",
       "      <th>ForecastYoYPctChange</th>\n",
       "      <th>StockOfREOs</th>\n",
       "      <th>NegativeEquity</th>\n",
       "      <th>Delinquency</th>\n",
       "      <th>DaysOnMarket</th>\n",
       "    </tr>\n",
       "  </thead>\n",
       "  <tbody>\n",
       "    <tr>\n",
       "      <th>0</th>\n",
       "      <td>City</td>\n",
       "      <td>New York</td>\n",
       "      <td>New York</td>\n",
       "      <td>NY</td>\n",
       "      <td>New York, NY</td>\n",
       "      <td>\"New York-Newark-Jersey City, NY-NJ-PA\"</td>\n",
       "      <td>0.0</td>\n",
       "      <td>9.771856</td>\n",
       "      <td>95.73</td>\n",
       "      <td>1.0234</td>\n",
       "      <td>0.0254</td>\n",
       "      <td>693900.0</td>\n",
       "      <td>0.872220</td>\n",
       "      <td>14.335146</td>\n",
       "      <td>0.054813</td>\n",
       "      <td>NaN</td>\n",
       "      <td>0.067888</td>\n",
       "      <td>0.099894</td>\n",
       "      <td>153.0</td>\n",
       "    </tr>\n",
       "    <tr>\n",
       "      <th>1</th>\n",
       "      <td>City</td>\n",
       "      <td>Los Angeles</td>\n",
       "      <td>Los Angeles</td>\n",
       "      <td>CA</td>\n",
       "      <td>Los Angeles-Long Beach-Anaheim, CA</td>\n",
       "      <td>\"Los Angeles-Long Beach-Anaheim, CA\"</td>\n",
       "      <td>1.0</td>\n",
       "      <td>7.555211</td>\n",
       "      <td>96.37</td>\n",
       "      <td>3.4373</td>\n",
       "      <td>1.0175</td>\n",
       "      <td>633400.0</td>\n",
       "      <td>0.300871</td>\n",
       "      <td>7.101792</td>\n",
       "      <td>0.017052</td>\n",
       "      <td>NaN</td>\n",
       "      <td>0.054472</td>\n",
       "      <td>0.031304</td>\n",
       "      <td>66.0</td>\n",
       "    </tr>\n",
       "  </tbody>\n",
       "</table>\n",
       "</div>"
      ],
      "text/plain": [
       "  RegionType   RegionName         City State  \\\n",
       "0       City     New York     New York    NY   \n",
       "1       City  Los Angeles  Los Angeles    CA   \n",
       "\n",
       "                                Metro  \\\n",
       "0                        New York, NY   \n",
       "1  Los Angeles-Long Beach-Anaheim, CA   \n",
       "\n",
       "                                 CBSATitle  SizeRank  MarketHealthIndex  \\\n",
       "0  \"New York-Newark-Jersey City, NY-NJ-PA\"       0.0           9.771856   \n",
       "1     \"Los Angeles-Long Beach-Anaheim, CA\"       1.0           7.555211   \n",
       "\n",
       "   SellForGain  PrevForeclosed  ForeclosureRatio      ZHVI       MoM  \\\n",
       "0        95.73          1.0234            0.0254  693900.0  0.872220   \n",
       "1        96.37          3.4373            1.0175  633400.0  0.300871   \n",
       "\n",
       "         YoY  ForecastYoYPctChange  StockOfREOs  NegativeEquity  Delinquency  \\\n",
       "0  14.335146              0.054813          NaN        0.067888     0.099894   \n",
       "1   7.101792              0.017052          NaN        0.054472     0.031304   \n",
       "\n",
       "   DaysOnMarket  \n",
       "0         153.0  \n",
       "1          66.0  "
      ]
     },
     "execution_count": 143,
     "metadata": {},
     "output_type": "execute_result"
    }
   ],
   "source": [
    "# I import market health index dataset of cities\n",
    "df_city = pd.read_csv(\"MarketHealthIndex_City.csv\", encoding=\"unicode_escape\")\n",
    "df_city.head(2)"
   ]
  },
  {
   "cell_type": "markdown",
   "metadata": {},
   "source": [
    "**Market Health Index Metro Dataset**"
   ]
  },
  {
   "cell_type": "code",
   "execution_count": 144,
   "metadata": {},
   "outputs": [
    {
     "data": {
      "text/html": [
       "<div>\n",
       "<style scoped>\n",
       "    .dataframe tbody tr th:only-of-type {\n",
       "        vertical-align: middle;\n",
       "    }\n",
       "\n",
       "    .dataframe tbody tr th {\n",
       "        vertical-align: top;\n",
       "    }\n",
       "\n",
       "    .dataframe thead th {\n",
       "        text-align: right;\n",
       "    }\n",
       "</style>\n",
       "<table border=\"1\" class=\"dataframe\">\n",
       "  <thead>\n",
       "    <tr style=\"text-align: right;\">\n",
       "      <th></th>\n",
       "      <th>RegionType</th>\n",
       "      <th>RegionName</th>\n",
       "      <th>City</th>\n",
       "      <th>State</th>\n",
       "      <th>Metro</th>\n",
       "      <th>CBSATitle</th>\n",
       "      <th>SizeRank</th>\n",
       "      <th>MarketHealthIndex</th>\n",
       "      <th>SellForGain</th>\n",
       "      <th>PrevForeclosed</th>\n",
       "      <th>ForeclosureRatio</th>\n",
       "      <th>ZHVI</th>\n",
       "      <th>MoM</th>\n",
       "      <th>YoY</th>\n",
       "      <th>ForecastYoYPctChange</th>\n",
       "      <th>StockOfREOs</th>\n",
       "      <th>NegativeEquity</th>\n",
       "      <th>Delinquency</th>\n",
       "      <th>DaysOnMarket</th>\n",
       "    </tr>\n",
       "  </thead>\n",
       "  <tbody>\n",
       "    <tr>\n",
       "      <th>0</th>\n",
       "      <td>Metro</td>\n",
       "      <td>New York, NY</td>\n",
       "      <td>NaN</td>\n",
       "      <td>NY</td>\n",
       "      <td>New York, NY</td>\n",
       "      <td>\"New York-Newark-Jersey City, NY-NJ-PA\"</td>\n",
       "      <td>1.0</td>\n",
       "      <td>5.134707</td>\n",
       "      <td>85.92</td>\n",
       "      <td>3.6316</td>\n",
       "      <td>1.7598</td>\n",
       "      <td>426300.0</td>\n",
       "      <td>0.305882</td>\n",
       "      <td>7.787611</td>\n",
       "      <td>0.032022</td>\n",
       "      <td>NaN</td>\n",
       "      <td>0.091649</td>\n",
       "      <td>0.125016</td>\n",
       "      <td>122.0</td>\n",
       "    </tr>\n",
       "    <tr>\n",
       "      <th>1</th>\n",
       "      <td>Metro</td>\n",
       "      <td>Los Angeles, CA</td>\n",
       "      <td>NaN</td>\n",
       "      <td>CA</td>\n",
       "      <td>Los Angeles-Long Beach-Anaheim, CA</td>\n",
       "      <td>\"Los Angeles-Long Beach-Anaheim, CA\"</td>\n",
       "      <td>2.0</td>\n",
       "      <td>7.321712</td>\n",
       "      <td>95.17</td>\n",
       "      <td>3.3858</td>\n",
       "      <td>0.9021</td>\n",
       "      <td>613200.0</td>\n",
       "      <td>0.310813</td>\n",
       "      <td>5.742369</td>\n",
       "      <td>0.012223</td>\n",
       "      <td>NaN</td>\n",
       "      <td>0.055637</td>\n",
       "      <td>0.030270</td>\n",
       "      <td>63.0</td>\n",
       "    </tr>\n",
       "  </tbody>\n",
       "</table>\n",
       "</div>"
      ],
      "text/plain": [
       "  RegionType       RegionName  City State                               Metro  \\\n",
       "0      Metro     New York, NY   NaN    NY                        New York, NY   \n",
       "1      Metro  Los Angeles, CA   NaN    CA  Los Angeles-Long Beach-Anaheim, CA   \n",
       "\n",
       "                                 CBSATitle  SizeRank  MarketHealthIndex  \\\n",
       "0  \"New York-Newark-Jersey City, NY-NJ-PA\"       1.0           5.134707   \n",
       "1     \"Los Angeles-Long Beach-Anaheim, CA\"       2.0           7.321712   \n",
       "\n",
       "   SellForGain  PrevForeclosed  ForeclosureRatio      ZHVI       MoM  \\\n",
       "0        85.92          3.6316            1.7598  426300.0  0.305882   \n",
       "1        95.17          3.3858            0.9021  613200.0  0.310813   \n",
       "\n",
       "        YoY  ForecastYoYPctChange  StockOfREOs  NegativeEquity  Delinquency  \\\n",
       "0  7.787611              0.032022          NaN        0.091649     0.125016   \n",
       "1  5.742369              0.012223          NaN        0.055637     0.030270   \n",
       "\n",
       "   DaysOnMarket  \n",
       "0         122.0  \n",
       "1          63.0  "
      ]
     },
     "execution_count": 144,
     "metadata": {},
     "output_type": "execute_result"
    }
   ],
   "source": [
    "# I import market health index dataset of metros\n",
    "df_metro = pd.read_csv(\"MarketHealthIndex_Metro.csv\", encoding=\"unicode_escape\")\n",
    "df_metro.head(2)"
   ]
  },
  {
   "cell_type": "markdown",
   "metadata": {},
   "source": [
    "**Market Health Index State Dataset**"
   ]
  },
  {
   "cell_type": "code",
   "execution_count": 145,
   "metadata": {},
   "outputs": [
    {
     "data": {
      "text/html": [
       "<div>\n",
       "<style scoped>\n",
       "    .dataframe tbody tr th:only-of-type {\n",
       "        vertical-align: middle;\n",
       "    }\n",
       "\n",
       "    .dataframe tbody tr th {\n",
       "        vertical-align: top;\n",
       "    }\n",
       "\n",
       "    .dataframe thead th {\n",
       "        text-align: right;\n",
       "    }\n",
       "</style>\n",
       "<table border=\"1\" class=\"dataframe\">\n",
       "  <thead>\n",
       "    <tr style=\"text-align: right;\">\n",
       "      <th></th>\n",
       "      <th>RegionType</th>\n",
       "      <th>RegionName</th>\n",
       "      <th>City</th>\n",
       "      <th>State</th>\n",
       "      <th>Metro</th>\n",
       "      <th>CBSATitle</th>\n",
       "      <th>SizeRank</th>\n",
       "      <th>MarketHealthIndex</th>\n",
       "      <th>SellForGain</th>\n",
       "      <th>PrevForeclosed</th>\n",
       "      <th>ForeclosureRatio</th>\n",
       "      <th>ZHVI</th>\n",
       "      <th>MoM</th>\n",
       "      <th>YoY</th>\n",
       "      <th>ForecastYoYPctChange</th>\n",
       "      <th>StockOfREOs</th>\n",
       "      <th>NegativeEquity</th>\n",
       "      <th>Delinquency</th>\n",
       "      <th>DaysOnMarket</th>\n",
       "    </tr>\n",
       "  </thead>\n",
       "  <tbody>\n",
       "    <tr>\n",
       "      <th>0</th>\n",
       "      <td>State</td>\n",
       "      <td>Alaska</td>\n",
       "      <td>NaN</td>\n",
       "      <td>AK</td>\n",
       "      <td>NaN</td>\n",
       "      <td>NaN</td>\n",
       "      <td>NaN</td>\n",
       "      <td>3.958333</td>\n",
       "      <td>85.63</td>\n",
       "      <td>NaN</td>\n",
       "      <td>NaN</td>\n",
       "      <td>269100</td>\n",
       "      <td>0.074377</td>\n",
       "      <td>1.432341</td>\n",
       "      <td>0.045838</td>\n",
       "      <td>NaN</td>\n",
       "      <td>0.146206</td>\n",
       "      <td>0.013557</td>\n",
       "      <td>79.0</td>\n",
       "    </tr>\n",
       "    <tr>\n",
       "      <th>1</th>\n",
       "      <td>State</td>\n",
       "      <td>Alabama</td>\n",
       "      <td>NaN</td>\n",
       "      <td>AL</td>\n",
       "      <td>NaN</td>\n",
       "      <td>NaN</td>\n",
       "      <td>NaN</td>\n",
       "      <td>1.458333</td>\n",
       "      <td>82.25</td>\n",
       "      <td>5.3425</td>\n",
       "      <td>2.3252</td>\n",
       "      <td>126000</td>\n",
       "      <td>0.158983</td>\n",
       "      <td>3.618421</td>\n",
       "      <td>0.029770</td>\n",
       "      <td>NaN</td>\n",
       "      <td>0.142491</td>\n",
       "      <td>0.029878</td>\n",
       "      <td>90.0</td>\n",
       "    </tr>\n",
       "  </tbody>\n",
       "</table>\n",
       "</div>"
      ],
      "text/plain": [
       "  RegionType RegionName  City State  Metro  CBSATitle  SizeRank  \\\n",
       "0      State     Alaska   NaN    AK    NaN        NaN       NaN   \n",
       "1      State    Alabama   NaN    AL    NaN        NaN       NaN   \n",
       "\n",
       "   MarketHealthIndex  SellForGain  PrevForeclosed  ForeclosureRatio    ZHVI  \\\n",
       "0           3.958333        85.63             NaN               NaN  269100   \n",
       "1           1.458333        82.25          5.3425            2.3252  126000   \n",
       "\n",
       "        MoM       YoY  ForecastYoYPctChange  StockOfREOs  NegativeEquity  \\\n",
       "0  0.074377  1.432341              0.045838          NaN        0.146206   \n",
       "1  0.158983  3.618421              0.029770          NaN        0.142491   \n",
       "\n",
       "   Delinquency  DaysOnMarket  \n",
       "0     0.013557          79.0  \n",
       "1     0.029878          90.0  "
      ]
     },
     "execution_count": 145,
     "metadata": {},
     "output_type": "execute_result"
    }
   ],
   "source": [
    "# I import market health index dataset of states\n",
    "df_state = pd.read_csv(\"MarketHealthIndex_State.csv\", encoding=\"unicode_escape\")\n",
    "df_state.head(2)"
   ]
  },
  {
   "cell_type": "markdown",
   "metadata": {},
   "source": [
    "**Market Health Index Zip Dataset**"
   ]
  },
  {
   "cell_type": "code",
   "execution_count": 146,
   "metadata": {},
   "outputs": [
    {
     "data": {
      "text/html": [
       "<div>\n",
       "<style scoped>\n",
       "    .dataframe tbody tr th:only-of-type {\n",
       "        vertical-align: middle;\n",
       "    }\n",
       "\n",
       "    .dataframe tbody tr th {\n",
       "        vertical-align: top;\n",
       "    }\n",
       "\n",
       "    .dataframe thead th {\n",
       "        text-align: right;\n",
       "    }\n",
       "</style>\n",
       "<table border=\"1\" class=\"dataframe\">\n",
       "  <thead>\n",
       "    <tr style=\"text-align: right;\">\n",
       "      <th></th>\n",
       "      <th>RegionType</th>\n",
       "      <th>RegionName</th>\n",
       "      <th>City</th>\n",
       "      <th>State</th>\n",
       "      <th>Metro</th>\n",
       "      <th>CBSATitle</th>\n",
       "      <th>SizeRank</th>\n",
       "      <th>MarketHealthIndex</th>\n",
       "      <th>SellForGain</th>\n",
       "      <th>PrevForeclosed</th>\n",
       "      <th>ForeclosureRatio</th>\n",
       "      <th>ZHVI</th>\n",
       "      <th>MoM</th>\n",
       "      <th>YoY</th>\n",
       "      <th>ForecastYoYPctChange</th>\n",
       "      <th>StockOfREOs</th>\n",
       "      <th>NegativeEquity</th>\n",
       "      <th>Delinquency</th>\n",
       "      <th>DaysOnMarket</th>\n",
       "    </tr>\n",
       "  </thead>\n",
       "  <tbody>\n",
       "    <tr>\n",
       "      <th>0</th>\n",
       "      <td>Zip</td>\n",
       "      <td>1001</td>\n",
       "      <td>Agawam</td>\n",
       "      <td>MA</td>\n",
       "      <td>Springfield, MA</td>\n",
       "      <td>\"Springfield, MA\"</td>\n",
       "      <td>NaN</td>\n",
       "      <td>2.094542</td>\n",
       "      <td>75.00</td>\n",
       "      <td>NaN</td>\n",
       "      <td>5.7575</td>\n",
       "      <td>198700.0</td>\n",
       "      <td>0.353535</td>\n",
       "      <td>5.187930</td>\n",
       "      <td>0.028415</td>\n",
       "      <td>NaN</td>\n",
       "      <td>0.112505</td>\n",
       "      <td>0.072131</td>\n",
       "      <td>77.5</td>\n",
       "    </tr>\n",
       "    <tr>\n",
       "      <th>1</th>\n",
       "      <td>Zip</td>\n",
       "      <td>1002</td>\n",
       "      <td>Amherst</td>\n",
       "      <td>MA</td>\n",
       "      <td>Springfield, MA</td>\n",
       "      <td>\"Springfield, MA\"</td>\n",
       "      <td>NaN</td>\n",
       "      <td>3.099581</td>\n",
       "      <td>92.31</td>\n",
       "      <td>NaN</td>\n",
       "      <td>NaN</td>\n",
       "      <td>315600.0</td>\n",
       "      <td>-0.221309</td>\n",
       "      <td>3.441495</td>\n",
       "      <td>0.022503</td>\n",
       "      <td>NaN</td>\n",
       "      <td>0.060052</td>\n",
       "      <td>0.050725</td>\n",
       "      <td>93.5</td>\n",
       "    </tr>\n",
       "  </tbody>\n",
       "</table>\n",
       "</div>"
      ],
      "text/plain": [
       "  RegionType  RegionName     City State            Metro          CBSATitle  \\\n",
       "0        Zip        1001   Agawam    MA  Springfield, MA  \"Springfield, MA\"   \n",
       "1        Zip        1002  Amherst    MA  Springfield, MA  \"Springfield, MA\"   \n",
       "\n",
       "   SizeRank  MarketHealthIndex  SellForGain  PrevForeclosed  ForeclosureRatio  \\\n",
       "0       NaN           2.094542        75.00             NaN            5.7575   \n",
       "1       NaN           3.099581        92.31             NaN               NaN   \n",
       "\n",
       "       ZHVI       MoM       YoY  ForecastYoYPctChange  StockOfREOs  \\\n",
       "0  198700.0  0.353535  5.187930              0.028415          NaN   \n",
       "1  315600.0 -0.221309  3.441495              0.022503          NaN   \n",
       "\n",
       "   NegativeEquity  Delinquency  DaysOnMarket  \n",
       "0        0.112505     0.072131          77.5  \n",
       "1        0.060052     0.050725          93.5  "
      ]
     },
     "execution_count": 146,
     "metadata": {},
     "output_type": "execute_result"
    }
   ],
   "source": [
    "# I import market health index dataset of zips\n",
    "df_zip = pd.read_csv(\"MarketHealthIndex_Zip.csv\", encoding=\"unicode_escape\")\n",
    "df_zip.head(2)"
   ]
  },
  {
   "cell_type": "markdown",
   "metadata": {},
   "source": [
    "#### **Questions - Answers**"
   ]
  },
  {
   "cell_type": "markdown",
   "metadata": {},
   "source": [
    "Q1: Which state has the highest market health index?"
   ]
  },
  {
   "cell_type": "code",
   "execution_count": 142,
   "metadata": {},
   "outputs": [
    {
     "data": {
      "text/html": [
       "<div>\n",
       "<style scoped>\n",
       "    .dataframe tbody tr th:only-of-type {\n",
       "        vertical-align: middle;\n",
       "    }\n",
       "\n",
       "    .dataframe tbody tr th {\n",
       "        vertical-align: top;\n",
       "    }\n",
       "\n",
       "    .dataframe thead th {\n",
       "        text-align: right;\n",
       "    }\n",
       "</style>\n",
       "<table border=\"1\" class=\"dataframe\">\n",
       "  <thead>\n",
       "    <tr style=\"text-align: right;\">\n",
       "      <th></th>\n",
       "      <th>State</th>\n",
       "      <th>MarketHealthIndex</th>\n",
       "    </tr>\n",
       "  </thead>\n",
       "  <tbody>\n",
       "    <tr>\n",
       "      <th>3</th>\n",
       "      <td>TX</td>\n",
       "      <td>8.085605</td>\n",
       "    </tr>\n",
       "  </tbody>\n",
       "</table>\n",
       "</div>"
      ],
      "text/plain": [
       "  State  MarketHealthIndex\n",
       "3    TX           8.085605"
      ]
     },
     "execution_count": 142,
     "metadata": {},
     "output_type": "execute_result"
    }
   ],
   "source": [
    "pd.concat((df_metro,df_zip,df_state,df_city)).groupby('State',as_index=False,sort=False)['MarketHealthIndex'].mean().sort_values(\"MarketHealthIndex\", ascending=False)[:1]"
   ]
  },
  {
   "cell_type": "markdown",
   "metadata": {},
   "source": [
    "Q2: Which state has the lowest market health index?"
   ]
  },
  {
   "cell_type": "code",
   "execution_count": 147,
   "metadata": {},
   "outputs": [
    {
     "data": {
      "text/html": [
       "<div>\n",
       "<style scoped>\n",
       "    .dataframe tbody tr th:only-of-type {\n",
       "        vertical-align: middle;\n",
       "    }\n",
       "\n",
       "    .dataframe tbody tr th {\n",
       "        vertical-align: top;\n",
       "    }\n",
       "\n",
       "    .dataframe thead th {\n",
       "        text-align: right;\n",
       "    }\n",
       "</style>\n",
       "<table border=\"1\" class=\"dataframe\">\n",
       "  <thead>\n",
       "    <tr style=\"text-align: right;\">\n",
       "      <th></th>\n",
       "      <th>State</th>\n",
       "      <th>MarketHealthIndex</th>\n",
       "    </tr>\n",
       "  </thead>\n",
       "  <tbody>\n",
       "    <tr>\n",
       "      <th>41</th>\n",
       "      <td>DE</td>\n",
       "      <td>1.634231</td>\n",
       "    </tr>\n",
       "  </tbody>\n",
       "</table>\n",
       "</div>"
      ],
      "text/plain": [
       "   State  MarketHealthIndex\n",
       "41    DE           1.634231"
      ]
     },
     "execution_count": 147,
     "metadata": {},
     "output_type": "execute_result"
    }
   ],
   "source": [
    "pd.concat((df_metro,df_zip,df_state,df_city)).groupby('State',as_index=False,sort=False)['MarketHealthIndex'].mean().sort_values(\"MarketHealthIndex\", ascending=True)[:1]"
   ]
  },
  {
   "cell_type": "markdown",
   "metadata": {},
   "source": [
    "Q3: Which state has the highest delinquency?"
   ]
  },
  {
   "cell_type": "code",
   "execution_count": 148,
   "metadata": {},
   "outputs": [
    {
     "data": {
      "text/html": [
       "<div>\n",
       "<style scoped>\n",
       "    .dataframe tbody tr th:only-of-type {\n",
       "        vertical-align: middle;\n",
       "    }\n",
       "\n",
       "    .dataframe tbody tr th {\n",
       "        vertical-align: top;\n",
       "    }\n",
       "\n",
       "    .dataframe thead th {\n",
       "        text-align: right;\n",
       "    }\n",
       "</style>\n",
       "<table border=\"1\" class=\"dataframe\">\n",
       "  <thead>\n",
       "    <tr style=\"text-align: right;\">\n",
       "      <th></th>\n",
       "      <th>State</th>\n",
       "      <th>Delinquency</th>\n",
       "    </tr>\n",
       "  </thead>\n",
       "  <tbody>\n",
       "    <tr>\n",
       "      <th>42</th>\n",
       "      <td>NJ</td>\n",
       "      <td>0.11002</td>\n",
       "    </tr>\n",
       "  </tbody>\n",
       "</table>\n",
       "</div>"
      ],
      "text/plain": [
       "   State  Delinquency\n",
       "42    NJ      0.11002"
      ]
     },
     "execution_count": 148,
     "metadata": {},
     "output_type": "execute_result"
    }
   ],
   "source": [
    "pd.concat((df_metro,df_zip,df_state,df_city)).groupby('State',as_index=False,sort=False)['Delinquency'].mean().sort_values(\"Delinquency\", ascending=False)[:1]"
   ]
  },
  {
   "cell_type": "markdown",
   "metadata": {},
   "source": [
    "Q4: Which state has the lowest days on the market?"
   ]
  },
  {
   "cell_type": "code",
   "execution_count": 149,
   "metadata": {},
   "outputs": [
    {
     "data": {
      "text/html": [
       "<div>\n",
       "<style scoped>\n",
       "    .dataframe tbody tr th:only-of-type {\n",
       "        vertical-align: middle;\n",
       "    }\n",
       "\n",
       "    .dataframe tbody tr th {\n",
       "        vertical-align: top;\n",
       "    }\n",
       "\n",
       "    .dataframe thead th {\n",
       "        text-align: right;\n",
       "    }\n",
       "</style>\n",
       "<table border=\"1\" class=\"dataframe\">\n",
       "  <thead>\n",
       "    <tr style=\"text-align: right;\">\n",
       "      <th></th>\n",
       "      <th>State</th>\n",
       "      <th>DaysOnMarket</th>\n",
       "    </tr>\n",
       "  </thead>\n",
       "  <tbody>\n",
       "    <tr>\n",
       "      <th>3</th>\n",
       "      <td>TX</td>\n",
       "      <td>59.349481</td>\n",
       "    </tr>\n",
       "  </tbody>\n",
       "</table>\n",
       "</div>"
      ],
      "text/plain": [
       "  State  DaysOnMarket\n",
       "3    TX     59.349481"
      ]
     },
     "execution_count": 149,
     "metadata": {},
     "output_type": "execute_result"
    }
   ],
   "source": [
    "pd.concat((df_metro,df_zip,df_state,df_city)).groupby('State',as_index=False,sort=False)['DaysOnMarket'].mean().sort_values(\"DaysOnMarket\", ascending=True)[:1]"
   ]
  },
  {
   "cell_type": "markdown",
   "metadata": {},
   "source": [
    "Q5: Which state has the highest percentage of foreclosures?"
   ]
  },
  {
   "cell_type": "code",
   "execution_count": 151,
   "metadata": {},
   "outputs": [
    {
     "data": {
      "text/html": [
       "<div>\n",
       "<style scoped>\n",
       "    .dataframe tbody tr th:only-of-type {\n",
       "        vertical-align: middle;\n",
       "    }\n",
       "\n",
       "    .dataframe tbody tr th {\n",
       "        vertical-align: top;\n",
       "    }\n",
       "\n",
       "    .dataframe thead th {\n",
       "        text-align: right;\n",
       "    }\n",
       "</style>\n",
       "<table border=\"1\" class=\"dataframe\">\n",
       "  <thead>\n",
       "    <tr style=\"text-align: right;\">\n",
       "      <th></th>\n",
       "      <th>State</th>\n",
       "      <th>ForeclosureRatio</th>\n",
       "    </tr>\n",
       "  </thead>\n",
       "  <tbody>\n",
       "    <tr>\n",
       "      <th>35</th>\n",
       "      <td>ID</td>\n",
       "      <td>295.9091</td>\n",
       "    </tr>\n",
       "  </tbody>\n",
       "</table>\n",
       "</div>"
      ],
      "text/plain": [
       "   State  ForeclosureRatio\n",
       "35    ID          295.9091"
      ]
     },
     "execution_count": 151,
     "metadata": {},
     "output_type": "execute_result"
    }
   ],
   "source": [
    "pd.concat((df_metro,df_zip,df_state,df_city)).groupby('State',as_index=False,sort=False)['ForeclosureRatio'].mean().sort_values(\"ForeclosureRatio\", ascending=False)[:1]"
   ]
  },
  {
   "cell_type": "markdown",
   "metadata": {},
   "source": [
    "Q6: Which state has the lowest percentage of foreclosures?"
   ]
  },
  {
   "cell_type": "code",
   "execution_count": 152,
   "metadata": {},
   "outputs": [
    {
     "data": {
      "text/html": [
       "<div>\n",
       "<style scoped>\n",
       "    .dataframe tbody tr th:only-of-type {\n",
       "        vertical-align: middle;\n",
       "    }\n",
       "\n",
       "    .dataframe tbody tr th {\n",
       "        vertical-align: top;\n",
       "    }\n",
       "\n",
       "    .dataframe thead th {\n",
       "        text-align: right;\n",
       "    }\n",
       "</style>\n",
       "<table border=\"1\" class=\"dataframe\">\n",
       "  <thead>\n",
       "    <tr style=\"text-align: right;\">\n",
       "      <th></th>\n",
       "      <th>State</th>\n",
       "      <th>ForeclosureRatio</th>\n",
       "    </tr>\n",
       "  </thead>\n",
       "  <tbody>\n",
       "    <tr>\n",
       "      <th>6</th>\n",
       "      <td>FL</td>\n",
       "      <td>0.3697</td>\n",
       "    </tr>\n",
       "  </tbody>\n",
       "</table>\n",
       "</div>"
      ],
      "text/plain": [
       "  State  ForeclosureRatio\n",
       "6    FL            0.3697"
      ]
     },
     "execution_count": 152,
     "metadata": {},
     "output_type": "execute_result"
    }
   ],
   "source": [
    "pd.concat((df_metro,df_zip,df_state,df_city)).groupby('State',as_index=False,sort=False)['ForeclosureRatio'].mean().sort_values(\"ForeclosureRatio\", ascending=True)[:1]"
   ]
  },
  {
   "cell_type": "markdown",
   "metadata": {},
   "source": [
    "**Summary Table**\n",
    "\n",
    "|                             | State | Value |\n",
    "| --------------------------- | ----- | ----- |\n",
    "| Highest Market Health Index | TX    | 8.085  |\n",
    "| Lowest Market Health Index  | DE    | 1.634  |\n",
    "| Highest Delinquency         | NJ    | 0.110  |\n",
    "| Lowest Days on Market       | TX    | 59.349 |\n",
    "| Highest Foreclosure Ratio   | ID    | 295.909    |\n",
    "| Lowest Foreclosure Ratio    | FL    | 0.369  |"
   ]
  },
  {
   "cell_type": "code",
   "execution_count": null,
   "metadata": {},
   "outputs": [],
   "source": []
  }
 ],
 "metadata": {
  "kernelspec": {
   "display_name": "Python 3.7.13 ('activity_recog')",
   "language": "python",
   "name": "python3"
  },
  "language_info": {
   "codemirror_mode": {
    "name": "ipython",
    "version": 3
   },
   "file_extension": ".py",
   "mimetype": "text/x-python",
   "name": "python",
   "nbconvert_exporter": "python",
   "pygments_lexer": "ipython3",
   "version": "3.7.13"
  },
  "orig_nbformat": 4,
  "vscode": {
   "interpreter": {
    "hash": "0c04d5cd96a1e555b0d6410e4a27a8cd23f8135bd97d0a009b751b608e7e6129"
   }
  }
 },
 "nbformat": 4,
 "nbformat_minor": 2
}
